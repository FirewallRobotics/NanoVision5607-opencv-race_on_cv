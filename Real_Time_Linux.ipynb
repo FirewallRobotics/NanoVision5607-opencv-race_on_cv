{
 "cells": [
  {
   "cell_type": "code",
   "execution_count": 2,
   "metadata": {},
   "outputs": [],
   "source": [
    "import numpy as np\n",
    "from pupil_apriltags import Detector\n",
    "import cv2\n",
    "from time import sleep, time\n",
    "from IPython.display import clear_output\n",
    "from picamera.array import PiYUVArray, PiRGBArray\n",
    "from picamera import PiCamera\n",
    "import matplotlib.pyplot as plt\n",
    "%matplotlib inline\n"
   ]
  },
  {
   "cell_type": "code",
   "execution_count": 3,
   "metadata": {},
   "outputs": [],
   "source": [
    "camera_info = {}\n",
    "#Camera Resolution\n",
    "camera_info[\"res\"] = (1280, 760)\n",
    "#Camera Intrinsic Matrix (3x3)\n",
    "camera_info[\"K\"] = np.array(\n",
    "    [[631.6058624841243, 0.0, 673.9002987027918], [0.0, 627.4303222760955, 380.85431690312384], [0.0, 0.0, 1.0]])\n",
    "#The non-default elements of the K array, in the AprilTag specification\n",
    "camera_info[\"params\"] = [631.605, 627.43, 673.9, 380.85]\n",
    "#Fisheye Camera Distortion Matrix\n",
    "camera_info[\"D\"] = np.array(\n",
    "    [[-0.031080677599846774], [-0.006061559072085696], [-0.0011641369792770276], [0.00028577486827623653]])\n",
    "#Fisheye flag\n",
    "camera_info[\"fisheye\"] = True\n",
    "map1, map2 = cv2.fisheye.initUndistortRectifyMap(camera_info[\"K\"], camera_info[\"D\"], np.eye(3),\n",
    "                                                         camera_info[\"K\"], camera_info[\"res\"], cv2.CV_16SC2)\n",
    "camera_info[\"map_1\"]=map1\n",
    "camera_info[\"map_2\"]=map2"
   ]
  },
  {
   "cell_type": "code",
   "execution_count": 8,
   "metadata": {},
   "outputs": [],
   "source": [
    "camera_info = {}\n",
    "#Camera Resolution\n",
    "camera_info[\"res\"] = (640, 480)\n",
    "#Camera Intrinsic Matrix (3x3)\n",
    "camera_info[\"K\"] = np.array([[313.11130800756115, 0.0, 336.11351317641487], [0.0, 310.34427179740504, 239.24222723346466], [0.0, 0.0, 1.0]])\n",
    "#The non-default elements of the K array, in the AprilTag specification\n",
    "camera_info[\"params\"] = [313.111, 310.344, 336.114, 239.242]\n",
    "#Fisheye Camera Distortion Matrix\n",
    "camera_info[\"D\"] = np.array([[-0.03574382363559852], [0.0028133336786254765], [-0.007814648102960479], [0.003381442340208307]])\n",
    "#Fisheye flag\n",
    "camera_info[\"fisheye\"] = True\n",
    "map1, map2 = cv2.fisheye.initUndistortRectifyMap(camera_info[\"K\"], camera_info[\"D\"], np.eye(3),\n",
    "                                                         camera_info[\"K\"], camera_info[\"res\"], cv2.CV_16SC2)\n",
    "camera_info[\"map_1\"]=map1\n",
    "camera_info[\"map_2\"]=map2"
   ]
  },
  {
   "cell_type": "code",
   "execution_count": 42,
   "metadata": {},
   "outputs": [],
   "source": [
    "families = \"tagStandard52h13\"\n",
    "#Size of Tag in Meters\n",
    "tag_size = .04\n",
    "detector = Detector(families=families,nthreads=4)\n"
   ]
  },
  {
   "cell_type": "markdown",
   "metadata": {},
   "source": [
    "### To Do Tomorrow\n",
    "\n",
    "- Figure out why undistort2 doesnt work, see if its faster once working\n",
    "- Get everything else faster as well\n",
    "\n",
    "### Timing Dec 16\n",
    "\n",
    "Get Image from buffer: 0.0010760211944580078 <br>\n",
    "Undistort: 0.17095403671264647 <br>\n",
    "Apriltag: 0.02233040809631348 <br>\n",
    "Other: 0.0008922672271728382 <br>\n",
    "Total: 0.5627192783355712 <br>\n",
    "\n",
    "\n",
    "### Notes Dec 17\n",
    "Switched to 640x480 becuase 10 FPS max with 1280x768\n",
    "60 FPS with quad-decimate 4, no detections over a meter though\n",
    "30 FPS with no-quad decimate, better detection distance\n",
    "20 FPS with more than 2 tags\n",
    "nthreads=4 adds 1 fps"
   ]
  },
  {
   "cell_type": "code",
   "execution_count": 46,
   "metadata": {},
   "outputs": [
    {
     "name": "stdout",
     "output_type": "stream",
     "text": [
      "No detections\n",
      "No detections\n",
      "No detections\n",
      "No detections\n",
      "No detections\n",
      "No detections\n",
      "No detections\n",
      "No detections\n",
      "No detections\n",
      "No detections\n",
      "No detections\n",
      "No detections\n",
      "No detections\n",
      "No detections\n",
      "No detections\n",
      "No detections\n",
      "No detections\n",
      "No detections\n",
      "No detections\n",
      "No detections\n",
      "Time:1328.815, X:-0.019,Y:-0.003,X:0.206\n",
      "No detections\n",
      "Time:1328.977, X:-0.012,Y:-0.019,X:0.224\n",
      "Time:1329.070, X:-0.005,Y:-0.017,X:0.222\n",
      "Time:1329.147, X:0.002,Y:-0.018,X:0.221\n",
      "Time:1329.223, X:0.002,Y:-0.021,X:0.222\n",
      "Time:1329.346, X:0.002,Y:-0.024,X:0.221\n",
      "Time:1329.430, X:-0.002,Y:-0.018,X:0.218\n",
      "Time:1329.492, X:-0.004,Y:-0.014,X:0.219\n",
      "Time:1329.569, X:-0.004,Y:-0.012,X:0.217\n",
      "Time:1329.651, X:-0.003,Y:-0.011,X:0.219\n",
      "Time:1329.716, X:-0.001,Y:-0.011,X:0.219\n",
      "Time:1329.782, X:-0.001,Y:-0.013,X:0.221\n",
      "Time:1329.871, X:-0.001,Y:-0.015,X:0.222\n",
      "Time:1329.951, X:-0.003,Y:-0.018,X:0.223\n",
      "Time:1330.036, X:-0.004,Y:-0.019,X:0.224\n",
      "Time:1330.140, X:-0.005,Y:-0.020,X:0.225\n",
      "Time:1330.238, X:-0.005,Y:-0.020,X:0.226\n",
      "Time:1330.341, X:-0.005,Y:-0.017,X:0.227\n",
      "Time:1330.414, X:-0.005,Y:-0.014,X:0.227\n",
      "Time:1330.495, X:-0.005,Y:-0.013,X:0.226\n",
      "Time:1330.572, X:-0.007,Y:-0.014,X:0.227\n",
      "Time:1330.642, X:-0.008,Y:-0.014,X:0.229\n",
      "Time:1330.713, X:-0.008,Y:-0.012,X:0.229\n",
      "Time:1330.800, X:-0.009,Y:-0.010,X:0.230\n",
      "Time:1330.878, X:-0.010,Y:-0.005,X:0.230\n",
      "Time:1330.958, X:-0.010,Y:-0.002,X:0.231\n",
      "Time:1331.059, X:-0.010,Y:-0.002,X:0.233\n",
      "Time:1331.133, X:-0.011,Y:-0.001,X:0.232\n",
      "Time:1331.235, X:-0.015,Y:0.007,X:0.231\n",
      "Time:1331.315, X:-0.021,Y:0.017,X:0.234\n",
      "Time:1331.379, X:-0.022,Y:0.025,X:0.236\n",
      "Time:1331.446, X:-0.023,Y:0.030,X:0.238\n",
      "Time:1331.545, X:-0.024,Y:0.034,X:0.240\n",
      "Time:1331.618, X:-0.025,Y:0.039,X:0.243\n",
      "Time:1331.705, X:-0.026,Y:0.043,X:0.245\n",
      "Incorrect buffer length for resolution 640x480\n"
     ]
    }
   ],
   "source": [
    "RUN_TIMER = 30\n",
    "positions = np.zeros(shape=(3, 1))\n",
    "first_frame = True\n",
    "try:\n",
    "    camera = PiCamera(sensor_mode=7,resolution=camera_info[\"res\"])\n",
    "    rawCapture = PiYUVArray(camera, size=camera_info[\"res\"])\n",
    "    read=[]\n",
    "    undist=[]\n",
    "    detect=[]\n",
    "    end=[]\n",
    "    full=[]\n",
    "    t0 = time()\n",
    "    for f in camera.capture_continuous(rawCapture, format=\"yuv\", use_video_port=True):\n",
    "        t1=time()\n",
    "        if first_frame:\n",
    "            first_frame = False\n",
    "            # Reset the buffer for the next image\n",
    "            rawCapture.truncate(0)\n",
    "            continue\n",
    "        # Stop after RUN_TIMER seconds\n",
    "        if (time() - t0) > RUN_TIMER:\n",
    "            break\n",
    "\n",
    "        # Get the intensity component of the image (a trick to get black and white images)\n",
    "        I_distorted = f.array[:, :, 0]\n",
    "        rawCapture.truncate(0)\n",
    "        read.append(time()-t1)\n",
    "        I= cv2.remap(I_distorted, camera_info[\"map_1\"], camera_info[\"map_2\"], interpolation=cv2.INTER_LINEAR, borderMode=cv2.BORDER_CONSTANT) \n",
    "        undist.append(time()-t1)\n",
    "        detected_tags = detector.detect(I, estimate_tag_pose=True, camera_params=camera_info[\"params\"],\n",
    "                                                     tag_size=tag_size)\n",
    "        detect.append(time()-t1)\n",
    "        tmp_poses = [tag.pose_t for tag in detected_tags]\n",
    "        if tmp_poses:\n",
    "            avg=np.mean(np.concatenate(tmp_poses, axis=1), axis=1, keepdims=True)\n",
    "            positions = np.hstack((positions, avg))\n",
    "            print(f\"Time:{time() - t0:.3f}, X:{avg[0,0]:.3f},Y:{avg[1,0]:.3f},X:{avg[2,0]:.3f}\")\n",
    "        else:\n",
    "            # If no new tag detections in this frame, assume (naively) that the camera stayed in the same position\n",
    "            # as the previous frame\n",
    "            positions = np.hstack((positions, positions[:, -1:]))\n",
    "            print(\"No detections\")\n",
    "        end.append(time()-t1)\n",
    "        full.append(time()-t0)\n",
    "    print(positions.shape)\n",
    "    print(f\"Time to Read:{np.mean(read)}\")\n",
    "    print(f\"Time to Undistort:{np.mean(undist)-np.mean(read)}\")\n",
    "    print(f\"Time to Detect:{np.mean(detect)-np.mean(undist)}\")\n",
    "    print(f\"Time to End of Loop:{np.mean(end)-np.mean(detect)}\")\n",
    "    print(f\"Total Time:{np.mean(end)}\")\n",
    "    print(f\"Estimated FPS:{1/np.mean(end)}\")\n",
    "    print(f\"Total FPS Processed: {positions.shape[1]/RUN_TIMER}\")\n",
    "    camera.close()\n",
    "    rawCapture.close()\n",
    "except Exception as e:\n",
    "    print(e)\n",
    "    rawCapture.close()\n",
    "    camera.close()"
   ]
  },
  {
   "cell_type": "code",
   "execution_count": 45,
   "metadata": {},
   "outputs": [
    {
     "data": {
      "text/plain": [
       "11.720933767910875"
      ]
     },
     "execution_count": 45,
     "metadata": {},
     "output_type": "execute_result"
    }
   ],
   "source": [
    "1/np.mean(np.diff(full))"
   ]
  },
  {
   "cell_type": "code",
   "execution_count": null,
   "metadata": {},
   "outputs": [],
   "source": []
  }
 ],
 "metadata": {
  "kernelspec": {
   "display_name": "Python 3",
   "language": "python",
   "name": "python3"
  },
  "language_info": {
   "codemirror_mode": {
    "name": "ipython",
    "version": 3
   },
   "file_extension": ".py",
   "mimetype": "text/x-python",
   "name": "python",
   "nbconvert_exporter": "python",
   "pygments_lexer": "ipython3",
   "version": "3.7.3"
  }
 },
 "nbformat": 4,
 "nbformat_minor": 4
}

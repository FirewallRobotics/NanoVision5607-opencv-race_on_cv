{
 "cells": [
  {
   "cell_type": "markdown",
   "metadata": {},
   "source": [
    "# Working with AprilTags\n",
    "\n",
    "This notebook will show you how to work with AprilTags for visualization and pose estimation. See the Apriltags Markdown file and Fisheye Calibration Markdown file for the theory behind it.\n",
    "\n",
    "#### Imports and Global Parameters"
   ]
  },
  {
   "cell_type": "code",
   "execution_count": 1,
   "metadata": {},
   "outputs": [],
   "source": [
    "import numpy as np\n",
    "from ATDetector import ATDetector\n",
    "import cv2\n",
    "from time import sleep\n",
    "from IPython.display import clear_output\n",
    "import matplotlib.pyplot as plt\n",
    "%matplotlib inline\n",
    "\n",
    "#Scale Factor for Showing Images\n",
    "SCALE = .3"
   ]
  },
  {
   "cell_type": "markdown",
   "metadata": {},
   "source": [
    "####  Camera\n",
    "To use the AprilTags, we need information about the camera we are using, specifically:\n",
    "- Camera Resolution\n",
    "- Intrinsic matrix for pose estimation\n",
    "- Distortion Array for fisheye Undistortion\n",
    "- Fisheye flag if camera is fisheye"
   ]
  },
  {
   "cell_type": "code",
   "execution_count": 2,
   "metadata": {},
   "outputs": [],
   "source": [
    "camera = {}\n",
    "#Camera Resolution\n",
    "camera[\"res\"] = (1280, 760)\n",
    "#Camera Intrinsic Matrix (3x3)\n",
    "camera[\"K\"] = np.array(\n",
    "    [[631.6058624841243, 0.0, 673.9002987027918], [0.0, 627.4303222760955, 380.85431690312384], [0.0, 0.0, 1.0]])\n",
    "#The non-default elements of the K array, in the AprilTag specification\n",
    "camera[\"params\"] = [631.605, 627.43, 673.9, 380.85]\n",
    "#Fisheye Camera Distortion Matrix\n",
    "camera[\"D\"] = np.array(\n",
    "    [[-0.031080677599846774], [-0.006061559072085696], [-0.0011641369792770276], [0.00028577486827623653]])\n",
    "#Fisheye flag\n",
    "camera[\"fisheye\"] = True\n"
   ]
  },
  {
   "cell_type": "markdown",
   "metadata": {},
   "source": [
    "#### Tag Information\n",
    "To use the AprilTags, we need information about the tags we are using, specifically:\n",
    "- Tag Families\n",
    "- Size of the tag (in meters)\n",
    "- (Optional) Location of the tags in the world frame"
   ]
  },
  {
   "cell_type": "code",
   "execution_count": 3,
   "metadata": {},
   "outputs": [],
   "source": [
    "tags = {}\n",
    "#To add more families, seperate with a space instead of using a list\n",
    "families = \"tagStandard52h13\"\n",
    "#Size of Tag in Meters\n",
    "tag_size = .04\n",
    "#Tag Locations\n",
    "tag_locations = {}\n",
    "tag_locations[4] = np.array([[.127],[0.],[0.]])\n",
    "tag_locations[3] = np.array([[-.127],[0.],[0.]])"
   ]
  },
  {
   "cell_type": "code",
   "execution_count": 4,
   "metadata": {},
   "outputs": [],
   "source": [
    "#Create Detector\n",
    "detect=ATDetector(families,tag_size,camera)"
   ]
  },
  {
   "cell_type": "markdown",
   "metadata": {},
   "source": [
    "### Working with Images\n",
    "\n",
    "There are 3 main functions to use when working with a single image:\n",
    "- Visualize Image Detections -> Takes a filename and displays information about the tags overlaid on the image.\n",
    "- Estimate Image Position -> Takes a filename and prints the estimated camera location according to each detected tag.\n",
    "- Estimate Image Orientation -> Takes a filename and prints the estimated camera orientation according to each detected tag."
   ]
  },
  {
   "cell_type": "code",
   "execution_count": 5,
   "metadata": {},
   "outputs": [],
   "source": [
    "#Example Image\n",
    "fname = \"Images/two_tags_pose.png\"\n",
    "#Overlay detections on the Image\n",
    "detect.visualize_image_detections(fname)"
   ]
  },
  {
   "cell_type": "code",
   "execution_count": 6,
   "metadata": {},
   "outputs": [
    {
     "name": "stdout",
     "output_type": "stream",
     "text": [
      "Tag 3 estimates the camera at:\n",
      "X:0.08358853637084757\n",
      "Y:0.09919716272553836\n",
      "Z:0.9832652919425806\n",
      "\n",
      "Tag 4 estimates the camera at:\n",
      "X:0.0851904804692395\n",
      "Y:0.11017903407917169\n",
      "Z:0.9958769917583619\n",
      "\n"
     ]
    }
   ],
   "source": [
    "detect.estimate_image_position(fname,tag_locations)"
   ]
  },
  {
   "cell_type": "code",
   "execution_count": 7,
   "metadata": {},
   "outputs": [
    {
     "name": "stdout",
     "output_type": "stream",
     "text": [
      "Tag 3 estimates the camera pose with:\n",
      "Theta_X:1.6655647960450366\n",
      "Theta_Y:4.895864583564171\n",
      "Theta_Z:179.53814273891854\n",
      "Tag 4 estimates the camera pose with:\n",
      "Theta_X:1.1738192724042376\n",
      "Theta_Y:6.062555705573457\n",
      "Theta_Z:179.76645915191907\n"
     ]
    }
   ],
   "source": [
    "detect.estimate_image_orientation(fname)"
   ]
  },
  {
   "cell_type": "markdown",
   "metadata": {},
   "source": [
    "### Working with Videos\n",
    "\n",
    "There are 3 main functions to use when working with a single image:\n",
    "- Visualize Video Detections -> Takes a filename and displays information about the tags overlaid on the video.<br>\n",
    "- Estimate Video Position -> Takes a filename and returns a matrix with the camera position for each frame. <br>\n",
    "- Estimate Video Orientation -> Takes a filename and returns a matrix with the camera orientation for each frame. <br>\n"
   ]
  },
  {
   "cell_type": "code",
   "execution_count": 5,
   "metadata": {},
   "outputs": [
    {
     "name": "stdout",
     "output_type": "stream",
     "text": [
      "Warning: No Tag Found in Frame\n",
      "Warning: No Tag Found in Frame\n",
      "Warning: No Tag Found in Frame\n",
      "Warning: No Tag Found in Frame\n",
      "Warning: No Tag Found in Frame\n",
      "Warning: No Tag Found in Frame\n",
      "Warning: No Tag Found in Frame\n",
      "Warning: No Tag Found in Frame\n",
      "Warning: No Tag Found in Frame\n",
      "Warning: No Tag Found in Frame\n",
      "Warning: No Tag Found in Frame\n",
      "Warning: No Tag Found in Frame\n",
      "Warning: No Tag Found in Frame\n",
      "Warning: No Tag Found in Frame\n",
      "Warning: No Tag Found in Frame\n",
      "Warning: No Tag Found in Frame\n",
      "Warning: No Tag Found in Frame\n",
      "Warning: No Tag Found in Frame\n",
      "Warning: No Tag Found in Frame\n",
      "Warning: No Tag Found in Frame\n",
      "Warning: No Tag Found in Frame\n",
      "Warning: No Tag Found in Frame\n",
      "Warning: No Tag Found in Frame\n",
      "Warning: No Tag Found in Frame\n",
      "Warning: No Tag Found in Frame\n",
      "Warning: No Tag Found in Frame\n",
      "Warning: No Tag Found in Frame\n",
      "Warning: No Tag Found in Frame\n",
      "Warning: No Tag Found in Frame\n",
      "Warning: No Tag Found in Frame\n",
      "Warning: No Tag Found in Frame\n",
      "Warning: No Tag Found in Frame\n",
      "Warning: No Tag Found in Frame\n",
      "Warning: No Tag Found in Frame\n",
      "Warning: No Tag Found in Frame\n",
      "Warning: No Tag Found in Frame\n",
      "Warning: No Tag Found in Frame\n",
      "Warning: No Tag Found in Frame\n",
      "Warning: No Tag Found in Frame\n",
      "Warning: No Tag Found in Frame\n",
      "Warning: No Tag Found in Frame\n",
      "Warning: No Tag Found in Frame\n",
      "Warning: No Tag Found in Frame\n",
      "Warning: No Tag Found in Frame\n",
      "Warning: No Tag Found in Frame\n",
      "Warning: No Tag Found in Frame\n",
      "Warning: No Tag Found in Frame\n",
      "Warning: No Tag Found in Frame\n",
      "Warning: No Tag Found in Frame\n",
      "Warning: No Tag Found in Frame\n",
      "Warning: No Tag Found in Frame\n",
      "Warning: No Tag Found in Frame\n",
      "Warning: No Tag Found in Frame\n",
      "Warning: No Tag Found in Frame\n"
     ]
    }
   ],
   "source": [
    "#Overlay detections on the Video\n",
    "fname=\"Videos/x_and_z_2.h264\"\n",
    "detect.visualize_video_detections(fname)"
   ]
  },
  {
   "cell_type": "code",
   "execution_count": null,
   "metadata": {},
   "outputs": [],
   "source": [
    "#Get Positions for each frame\n",
    "positions = detect.estimate_video_position(fname,tag_locations)\n",
    "#Get Orientations for each frame\n",
    "orientations = detect.estimate_video_orientation(fname)"
   ]
  },
  {
   "cell_type": "markdown",
   "metadata": {},
   "source": [
    "### Visualizing Position Estimation\n",
    "\n",
    "The cell below plots a graph with the position of the camera in the previous video. As you can see it is not very accurate and very noisy. Stay tuned for further improvements to make this better with Kalman filtering!\n"
   ]
  },
  {
   "cell_type": "code",
   "execution_count": null,
   "metadata": {},
   "outputs": [],
   "source": [
    "plt.figure()\n",
    "#Create Color Wheel\n",
    "phi = np.linspace(0, 2*np.pi, positions.shape[1])\n",
    "x = np.sin(phi)\n",
    "y = np.cos(phi)\n",
    "rgb_cycle = np.vstack((           \n",
    "    .5*(1.+np.cos(phi)), \n",
    "    .5*(1.+np.cos(phi+2*np.pi/3)), \n",
    "    .5*(1.+np.cos(phi-2*np.pi/3)))).T \n",
    "#Animation Loop\n",
    "for i in range(positions.shape[1]):\n",
    "    plt.scatter(positions[0,:i],positions[2,:i],c=rgb_cycle[:i])\n",
    "    plt.show()\n",
    "    sleep(0.1)\n",
    "    clear_output(wait=True)"
   ]
  }
 ],
 "metadata": {
  "kernelspec": {
   "display_name": "raceon",
   "language": "python",
   "name": "raceon"
  },
  "language_info": {
   "codemirror_mode": {
    "name": "ipython",
    "version": 3
   },
   "file_extension": ".py",
   "mimetype": "text/x-python",
   "name": "python",
   "nbconvert_exporter": "python",
   "pygments_lexer": "ipython3",
   "version": "3.7.9"
  }
 },
 "nbformat": 4,
 "nbformat_minor": 2
}

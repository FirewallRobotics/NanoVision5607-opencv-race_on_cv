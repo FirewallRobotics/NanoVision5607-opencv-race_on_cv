{
 "cells": [
  {
   "cell_type": "code",
   "execution_count": 1,
   "metadata": {},
   "outputs": [],
   "source": [
    "import numpy as np\n",
    "from ATDetector import ATDetector\n",
    "import cv2\n",
    "from time import sleep\n",
    "from IPython.display import clear_output\n",
    "%matplotlib inline"
   ]
  },
  {
   "cell_type": "markdown",
   "metadata": {},
   "source": [
    "# AprilTags\n",
    "\n",
    "AprilTags are fiducial markers that can be used for localization and camera calibration. We will use them for localization, they give us an estimate of where the car is on the track. \n",
    "<img src=\"Images/tag_corners.png\" width=\"250\" height=\"250\" />\n",
    "For correct use, you have to make sure the corners are aligned correctly, based on the orientation above. An easy way to check this is to run the **visualize_image_detections** function and check that both colored corners are on the bottom.\n",
    "There are many families of AprilTags, each with different looks and use cases. For our purposes, use either the tagStandard41h12 or tagStandard52h13 families.\n",
    "You will also need to supply the tag size. This is measured on only from the insides of the tag, in meters."
   ]
  },
  {
   "cell_type": "markdown",
   "metadata": {},
   "source": [
    "# Fisheye Cameras\n",
    "\n",
    "Fisheye, or wide-angle, cameras capture a larger Field of View than pinhole camera, but they distort lines to curves around the edges of the image. To use apriltags, we need to un-distort the image before running detections. \n",
    "<img src=\"Images/fisheyebeforeafter.png\"  />\n",
    "After running the fisheye camera calibration script, you will get an intrinsic matrix (K) and an array of distortion coefficents (D). Passing these into the undistort function will return an image ready for detection.\n",
    "<img src=\"Images/tag_measuring.png\"  />"
   ]
  },
  {
   "cell_type": "markdown",
   "metadata": {},
   "source": [
    "# Pose Estimation\n",
    "\n",
    "Our goal is to get the location of the camera in the world frame, from the pixel location of the tag in the camera. There are a few intermediate steps to get from one location to another.\n",
    "### Pixel Frame to Tag Frame\n",
    "Here is where the apriltags do their job, outputting a translation vector *I* and a rotation matrix *R* of where the tag is located, relative to the camera. \n",
    "\n",
    "\n",
    "### Tag Frame to World Frame\n",
    "Here we have to use our knowledge about the world. We need to supply the tag locations and orientations in the world frame to the detector. Then, we can combine the two translations and rotations to compute the total location."
   ]
  },
  {
   "cell_type": "code",
   "execution_count": 2,
   "metadata": {},
   "outputs": [],
   "source": [
    "#Scale Factor for Showing Images\n",
    "SCALE=.3\n",
    "#Information about the Camera\n",
    "camera = {}\n",
    "#Camera Intrinsic Matrix (3x3)\n",
    "camera[\"K\"] = np.array(\n",
    "    [[631.6058624841243, 0.0, 673.9002987027918], [0.0, 627.4303222760955, 380.85431690312384], [0.0, 0.0, 1.0]])\n",
    "#Fisheye Camera Distortion Matrix\n",
    "camera[\"D\"] = np.array(\n",
    "    [[-0.031080677599846774], [-0.006061559072085696], [-0.0011641369792770276], [0.00028577486827623653]])\n",
    "camera[\"fisheye\"] = True\n",
    "camera[\"flipped\"] = True\n",
    "#Rotation Matrix from World to Camera Frame if Camera is Flipped\n",
    "camera[\"flip_correction\"]=np.array([[-1.,0.,0.],[0.,-1.,0.],[0.,0.,1.]])\n",
    "camera[\"res\"] = (1280, 760)\n",
    "#fx,fy,cx,cy from K\n",
    "camera[\"params\"] = [631.605, 627.43, 673.9, 380.85]\n",
    "#Information about the Tags\n",
    "tags = {}\n",
    "#To add more families, seperate with a space instead of using a list\n",
    "families = \"tagStandard52h13\"\n",
    "#Size of Tag in Meters\n",
    "tag_size = .04\n"
   ]
  },
  {
   "cell_type": "code",
   "execution_count": 41,
   "metadata": {},
   "outputs": [],
   "source": [
    "#Create Detector\n",
    "detect=ATDetector(families,tag_size,camera)"
   ]
  },
  {
   "cell_type": "code",
   "execution_count": null,
   "metadata": {},
   "outputs": [
    {
     "name": "stdout",
     "output_type": "stream",
     "text": [
      "Tag 4 estimates the camera at:\n",
      "X:-0.01065201603161434\n",
      "Y:-0.043365537117933416\n",
      "Z:0.7491165314355398\n"
     ]
    }
   ],
   "source": [
    "fname=\"Images/test2.jpg\"\n",
    "#Estimate Camera Pose relative to Tag\n",
    "detect.estimate_image_pose(fname)\n"
   ]
  },
  {
   "cell_type": "code",
   "execution_count": null,
   "metadata": {},
   "outputs": [],
   "source": [
    "#Overlay detections on the Image\n",
    "detect.visualize_image_detections(fname)"
   ]
  },
  {
   "cell_type": "code",
   "execution_count": 4,
   "metadata": {
    "collapsed": true
   },
   "outputs": [
    {
     "name": "stdout",
     "output_type": "stream",
     "text": [
      "[[ 0.          0.09467471  0.09927352  0.10410296  0.10836145  0.11145226\n",
      "   0.1149608   0.11811423  0.12172343  0.12536303  0.12881966  0.13360247\n",
      "   0.13865373  0.14293123  0.14585787  0.14921133  0.15396078  0.15822684\n",
      "   0.16122373  0.16385009  0.16724478  0.17081281  0.17473809  0.17845801\n",
      "   0.18235495  0.18629932  0.18925872  0.19206675  0.19545718  0.1985841\n",
      "   0.2007238   0.20347407  0.20689831  0.2091264   0.21155047  0.21399948\n",
      "   0.2180744   0.22320673  0.2272009   0.23147688  0.23532388  0.23801776\n",
      "   0.24275854  0.24694415  0.25025176  0.2532515   0.25633248  0.25962538\n",
      "   0.26294321  0.26685555  0.27018846  0.27366455  0.27726649  0.28304721\n",
      "   0.28776663  0.29286493  0.29719884  0.30089882  0.30615426  0.3079648\n",
      "   0.31125452  0.3139497   0.31915396  0.3203445   0.32216909  0.32515104\n",
      "   0.32700351  0.32816205  0.3294371   0.33277614  0.33250546  0.33287821\n",
      "   0.33495465  0.33361401  0.33518098  0.33619858  0.33629695  0.33673732\n",
      "   0.33758236  0.33802918  0.33788673  0.33732666  0.33684739  0.33585362\n",
      "   0.33619173  0.33665689  0.3355815   0.33680303  0.33634585  0.33507848\n",
      "   0.33374578  0.33221867  0.33236402  0.32849264  0.32747657  0.32674481\n",
      "   0.32296815  0.32057134  0.31641301  0.31270885  0.30868646  0.30483938\n",
      "   0.30144356  0.29755474  0.29501962  0.28914254  0.28294892  0.27775919\n",
      "   0.27274422  0.26618722  0.26030439  0.25530299  0.24977063  0.24518577\n",
      "   0.2400409   0.23634788  0.23270537  0.22854611  0.22406365  0.22056134\n",
      "   0.2164974   0.21134414  0.20645101  0.20155097  0.1940287   0.1875553\n",
      "   0.18163688  0.17444242  0.16775463  0.15385381  0.14585839  0.14037453\n",
      "   0.13241848  0.12661158  0.12093541  0.11610596  0.11148001  0.10587905\n",
      "   0.10092083  0.0969286   0.09201929  0.08694934  0.08340706  0.07879269\n",
      "   0.07389933  0.07014657  0.06583234  0.06125849  0.0564764   0.0525304\n",
      "   0.04762181  0.04252903  0.03753649  0.03245571  0.02808117  0.02400056\n",
      "   0.01969629  0.01541442  0.01078507  0.006854    0.0025622  -0.00206637\n",
      "  -0.0071097  -0.01177679 -0.01538066 -0.01900176 -0.023727   -0.02829496\n",
      "  -0.03281485 -0.0371107  -0.04146258 -0.04625221 -0.05047341 -0.0542586\n",
      "  -0.05839097 -0.06280605 -0.06691436 -0.07091724 -0.07507485 -0.0797424\n",
      "  -0.08347493 -0.08803936 -0.09209741 -0.09699098 -0.10155287 -0.10753165\n",
      "  -0.11300761 -0.11824585 -0.12338061 -0.12929592 -0.1336227  -0.13874269\n",
      "  -0.14448587 -0.14897185 -0.15511876 -0.15925659 -0.16271222 -0.16593268\n",
      "  -0.16985791 -0.17525976 -0.17978852 -0.18286169 -0.18640278 -0.18955417\n",
      "  -0.19390195 -0.19784    -0.20118876 -0.20485357 -0.21022055 -0.21430559\n",
      "  -0.21924871 -0.22265529 -0.22704802 -0.23628708]\n",
      " [ 0.         -0.02742774 -0.02757002 -0.02784579 -0.02790165 -0.02783304\n",
      "  -0.02793505 -0.02798954 -0.02815097 -0.02833274 -0.02832287 -0.02859541\n",
      "  -0.02874584 -0.02869537 -0.02867271 -0.02877697 -0.02902033 -0.02918603\n",
      "  -0.02917119 -0.02914224 -0.02925298 -0.02924394 -0.0294657  -0.02969037\n",
      "  -0.02989021 -0.03012534 -0.03020417 -0.03019289 -0.03042867 -0.03059608\n",
      "  -0.03057524 -0.03066557 -0.03097319 -0.03106876 -0.03118699 -0.03137209\n",
      "  -0.03160385 -0.03197284 -0.03214439 -0.0323384  -0.03263238 -0.03251607\n",
      "  -0.03281214 -0.03307292 -0.0332083  -0.03329777 -0.03347109 -0.03365806\n",
      "  -0.03377359 -0.03409098 -0.03422234 -0.034426   -0.03456313 -0.03498817\n",
      "  -0.03530591 -0.03577033 -0.03597713 -0.03612091 -0.03647684 -0.03637452\n",
      "  -0.03651426 -0.03659082 -0.03704762 -0.03695459 -0.03703673 -0.03722464\n",
      "  -0.03733315 -0.0373326  -0.03744322 -0.0378167  -0.03764886 -0.03767457\n",
      "  -0.03795589 -0.03770434 -0.03784531 -0.03796018 -0.03789025 -0.03785671\n",
      "  -0.03804589 -0.03801142 -0.03809949 -0.03798291 -0.0379468  -0.03780857\n",
      "  -0.03788155 -0.03783566 -0.03778012 -0.03798421 -0.03800912 -0.03785969\n",
      "  -0.03780283 -0.03774952 -0.03784982 -0.03743415 -0.03742976 -0.03748582\n",
      "  -0.03711759 -0.0370245  -0.03670667 -0.03643541 -0.03619928 -0.03592188\n",
      "  -0.03578293 -0.03546423 -0.03542908 -0.03506032 -0.03461717 -0.03431781\n",
      "  -0.03410412 -0.03377375 -0.0335019  -0.03329636 -0.03297634 -0.03277608\n",
      "  -0.03248057 -0.03229621 -0.03214668 -0.03203769 -0.03178992 -0.03161426\n",
      "  -0.03134109 -0.03108584 -0.03093236 -0.03078987 -0.03027714 -0.03005527\n",
      "  -0.02995027 -0.02955304 -0.02936236 -0.02901217 -0.02849613 -0.02864289\n",
      "  -0.02819441 -0.02815382 -0.02787503 -0.02793164 -0.02795048 -0.02769428\n",
      "  -0.02743304 -0.0276006  -0.02776293 -0.02741292 -0.02767029 -0.02744044\n",
      "  -0.02739451 -0.02746664 -0.02741409 -0.02735469 -0.02747801 -0.02754361\n",
      "  -0.02738794 -0.02751196 -0.02751238 -0.02726124 -0.0273194  -0.02739738\n",
      "  -0.02735348 -0.02740449 -0.02746244 -0.02756885 -0.02767399 -0.02764717\n",
      "  -0.02772712 -0.02803286 -0.02781098 -0.02791584 -0.02830547 -0.02807399\n",
      "  -0.02839081 -0.02858013 -0.02838759 -0.02851018 -0.02859492 -0.02856052\n",
      "  -0.02866223 -0.02884509 -0.02908636 -0.02928835 -0.02948912 -0.02974339\n",
      "  -0.0295952  -0.02994194 -0.02996328 -0.03026277 -0.03052121 -0.03096295\n",
      "  -0.03121253 -0.03148424 -0.03164185 -0.03230391 -0.03237471 -0.03256058\n",
      "  -0.03284174 -0.03315046 -0.03389253 -0.03412809 -0.03423097 -0.03427952\n",
      "  -0.03466283 -0.03521692 -0.03562898 -0.0357178  -0.03590063 -0.03604239\n",
      "  -0.03650749 -0.03692153 -0.03707461 -0.03732071 -0.03786261 -0.03812139\n",
      "  -0.03864791 -0.03885054 -0.039187   -0.04024824]\n",
      " [ 0.          0.37769608  0.3784645   0.37987777  0.37996879  0.37813046\n",
      "   0.37818839  0.37734001  0.37880634  0.37884122  0.37700801  0.3785699\n",
      "   0.37819088  0.37647519  0.3752224   0.37483134  0.37607524  0.37619245\n",
      "   0.3745308   0.37351624  0.37340371  0.37250875  0.37299703  0.37328728\n",
      "   0.37427542  0.37490574  0.37383457  0.37325366  0.37384283  0.37460109\n",
      "   0.37319577  0.37258722  0.37289051  0.3727555   0.37223634  0.37159482\n",
      "   0.37203081  0.37251421  0.37110765  0.37152928  0.37110039  0.36854593\n",
      "   0.36897327  0.36882214  0.36809003  0.36755098  0.36732724  0.36713136\n",
      "   0.36637748  0.36715249  0.36744873  0.36696713  0.3662443   0.36811734\n",
      "   0.36911169  0.37066519  0.37085334  0.36992758  0.37213026  0.37035225\n",
      "   0.37006305  0.36919479  0.37149194  0.36947403  0.36857298  0.36929261\n",
      "   0.36955072  0.36911834  0.36807381  0.37010915  0.36887859  0.36825642\n",
      "   0.36952071  0.36732603  0.36842126  0.36846653  0.36774513  0.36795947\n",
      "   0.36865432  0.36902471  0.3688446   0.36845327  0.36809901  0.36710954\n",
      "   0.36744144  0.3679936   0.36689475  0.36873518  0.36940186  0.36943981\n",
      "   0.36969582  0.36965474  0.37170414  0.3697037   0.37127264  0.37352082\n",
      "   0.37235992  0.37378599  0.3735485   0.37344118  0.37316015  0.37362145\n",
      "   0.37426416  0.37439431  0.37701145  0.37586293  0.37492137  0.3754897\n",
      "   0.37622621  0.37531725  0.37561098  0.37601425  0.37521272  0.3755951\n",
      "   0.37455074  0.37489756  0.37607248  0.37694456  0.37700824  0.37786467\n",
      "   0.37829727  0.37769516  0.37873984  0.38060491  0.37913562  0.38050532\n",
      "   0.38174041  0.38051099  0.38085605  0.38240247  0.38015949  0.38363257\n",
      "   0.38133083  0.38307885  0.38220001  0.38362824  0.38604064  0.38488173\n",
      "   0.38446025  0.38801856  0.38983071  0.38756223  0.39089691  0.3895624\n",
      "   0.38891284  0.39041555  0.38989709  0.38870658  0.38749214  0.38946785\n",
      "   0.38899602  0.38992371  0.39127136  0.38775245  0.38730499  0.38752473\n",
      "   0.38643174  0.38775602  0.38656796  0.38855588  0.38898749  0.38850728\n",
      "   0.38919104  0.38954431  0.38785559  0.38864636  0.39153361  0.38792443\n",
      "   0.38908031  0.38971109  0.38748142  0.38791708  0.38748504  0.38579319\n",
      "   0.38518528  0.38552511  0.38592353  0.38736071  0.38763077  0.38823193\n",
      "   0.38568129  0.38674247  0.38469167  0.38540358  0.38519937  0.38642442\n",
      "   0.38555303  0.38416695  0.38304494  0.38494328  0.38324079  0.38237006\n",
      "   0.38278083  0.38171582  0.38500467  0.38330572  0.38098766  0.37985042\n",
      "   0.38034569  0.3828763   0.38356574  0.38183587  0.38096358  0.37904485\n",
      "   0.38011374  0.38011677  0.37920535  0.37851293  0.37978776  0.37890201\n",
      "   0.38086411  0.37982637  0.37979453  0.37907917]]\n"
     ]
    }
   ],
   "source": [
    "fname=\"Videos/x_only.h264\"\n",
    "#Get Locations for each frame\n",
    "poses=detect.estimate_video_pose(fname,show_animation=False)"
   ]
  },
  {
   "cell_type": "code",
   "execution_count": null,
   "metadata": {},
   "outputs": [],
   "source": [
    "#Overlay detections on the Video\n",
    "detect.visualize_video_detections(fname)"
   ]
  },
  {
   "cell_type": "code",
   "execution_count": 40,
   "metadata": {},
   "outputs": [
    {
     "data": {
      "image/png": "[encoded data removed]",
      "text/plain": [
       "<Figure size 432x288 with 1 Axes>"
      ]
     },
     "metadata": {
      "needs_background": "light"
     },
     "output_type": "display_data"
    }
   ],
   "source": [
    "plt.figure()\n",
    "#Create Color Wheel\n",
    "phi = np.linspace(0, 2*np.pi, poses.shape[1])\n",
    "x = np.sin(phi)\n",
    "y = np.cos(phi)\n",
    "rgb_cycle = np.vstack((           \n",
    "    .5*(1.+np.cos(phi)), \n",
    "    .5*(1.+np.cos(phi+2*np.pi/3)), \n",
    "    .5*(1.+np.cos(phi-2*np.pi/3)))).T \n",
    "#Animation Loop\n",
    "for i in range(poses.shape[1]):\n",
    "    plt.scatter(poses[0,:i],poses[2,:i],c=rgb_cycle[:i])\n",
    "    plt.show()\n",
    "    sleep(0.1)\n",
    "    clear_output(wait=True)"
   ]
  }
 ],
 "metadata": {
  "kernelspec": {
   "display_name": "raceon",
   "language": "python",
   "name": "raceon"
  },
  "language_info": {
   "codemirror_mode": {
    "name": "ipython",
    "version": 3
   },
   "file_extension": ".py",
   "mimetype": "text/x-python",
   "name": "python",
   "nbconvert_exporter": "python",
   "pygments_lexer": "ipython3",
   "version": "3.7.9"
  }
 },
 "nbformat": 4,
 "nbformat_minor": 2
}
